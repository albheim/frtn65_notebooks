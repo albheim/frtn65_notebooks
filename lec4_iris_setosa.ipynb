{
  "nbformat": 4,
  "nbformat_minor": 0,
  "metadata": {
    "colab": {
      "name": "lec4_iris_setosa.ipynb",
      "provenance": [],
      "collapsed_sections": [],
      "toc_visible": true,
      "include_colab_link": true
    },
    "kernelspec": {
      "name": "python3",
      "display_name": "Python 3"
    }
  },
  "cells": [
    {
      "cell_type": "markdown",
      "metadata": {
        "id": "view-in-github",
        "colab_type": "text"
      },
      "source": [
        "<a href=\"https://colab.research.google.com/github/albheim/frtn65_notebooks/blob/master/lec4_iris_setosa.ipynb\" target=\"_parent\"><img src=\"https://colab.research.google.com/assets/colab-badge.svg\" alt=\"Open In Colab\"/></a>"
      ]
    },
    {
      "cell_type": "markdown",
      "metadata": {
        "id": "ByyTwVrOjG1t",
        "colab_type": "text"
      },
      "source": [
        "## Logistic Regression - binary case\n",
        "We will look on the classic IRIS data set, and construct a classifier for the setosa flower (class 0) based on sepal length (feature 0)\n"
      ]
    },
    {
      "cell_type": "code",
      "metadata": {
        "id": "u5GvGQKhmwty",
        "colab_type": "code",
        "colab": {}
      },
      "source": [
        "import numpy as np\n",
        "import pandas as pd\n",
        "from pandas.plotting import scatter_matrix\n",
        "from sklearn.datasets import load_iris\n",
        "import matplotlib.pyplot as plt\n",
        "iris = load_iris()\n",
        "print(\"size of data {}\\nnames of columns {}\\ntarget label size {}\\nlabel names {}\".format(iris.data.shape, iris.feature_names, iris.target.shape, iris.target_names))"
      ],
      "execution_count": null,
      "outputs": []
    },
    {
      "cell_type": "markdown",
      "metadata": {
        "id": "822qzx_KxE8R",
        "colab_type": "text"
      },
      "source": [
        "## Pandas\n",
        "Now we want to use pandas dataframes to explore the data a bit. Lets create a dataframe for the data and the labels and then join them together so we have everything in one spot."
      ]
    },
    {
      "cell_type": "code",
      "metadata": {
        "id": "BAtDMRtcwJux",
        "colab_type": "code",
        "colab": {}
      },
      "source": [
        "df=pd.DataFrame(iris.data)\n",
        "colMap={0:\"red\",1:\"green\",2:\"blue\"}\n",
        "cols=list(map(lambda x:colMap.get(x),iris.target))\n",
        "scatter_matrix(df,  diagonal='hist',c=cols,figsize = (12,8))\n",
        "fig1 = plt.gcf()\n",
        "from google.colab import files\n",
        "#plt.savefig(\"plotiris.pdf\")\n",
        "#files.download(\"plotiris.pdf\")\n"
      ],
      "execution_count": null,
      "outputs": []
    },
    {
      "cell_type": "code",
      "metadata": {
        "id": "9xVi6ijsFcri",
        "colab_type": "code",
        "colab": {}
      },
      "source": [
        "from sklearn.linear_model import LogisticRegression\n",
        "X = iris[\"data\"][:,0:1].reshape(-1,1) # sepal length\n",
        "y = (iris[\"target\"] == 0).astype(np.int).reshape(-1,1)   # y = 1 if Setosa\n",
        "logmodel = LogisticRegression()\n",
        "logmodel.fit(X,y)"
      ],
      "execution_count": null,
      "outputs": []
    },
    {
      "cell_type": "code",
      "metadata": {
        "id": "ovMDDY6oNEHo",
        "colab_type": "code",
        "colab": {}
      },
      "source": [
        "# Plot Setosa probability versus Sepal Length\n",
        "Xnew = np.linspace(4,8,1000).reshape(-1,1)\n",
        "yproba = logmodel.predict_proba(Xnew)\n",
        "\n",
        "plt.figure(figsize=(8, 4))\n",
        "plt.plot(X[y==1], y[y==1], \"rs\")\n",
        "plt.plot(X[y==0], y[y==0], \"k^\")\n",
        "plt.plot(Xnew,yproba[:,1],\"r-\",linewidth=2,label = \"Setosa\")\n",
        "plt.plot(Xnew,1-yproba[:,1],\"k-\",linewidth=2,label = \"Not Setosa\")\n",
        "plt.xlabel(\"Sepal length (cm)\", fontsize=14)\n",
        "plt.ylabel(\"Probability\", fontsize=14)\n",
        "plt.legend(loc=\"center right\", fontsize=14)\n",
        "plt.axis([4, 8, -0.02, 1.02])\n",
        "#plt.savefig(\"plotiris2.pdf\")\n",
        "#files.download(\"plotiris2.pdf\")"
      ],
      "execution_count": null,
      "outputs": []
    },
    {
      "cell_type": "code",
      "metadata": {
        "id": "-HBjxO7mPipv",
        "colab_type": "code",
        "colab": {}
      },
      "source": [
        ""
      ],
      "execution_count": null,
      "outputs": []
    }
  ]
}