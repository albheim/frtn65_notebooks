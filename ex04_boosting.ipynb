{
  "cells": [
    {
      "cell_type": "code",
      "execution_count": null,
      "metadata": {
        "id": "ZgHjPlk9tuSf"
      },
      "outputs": [],
      "source": [
        "# Import modules\n",
        "import numpy as np\n",
        "import pandas as pd\n",
        "import matplotlib.pyplot as plt\n",
        "from sklearn.model_selection import train_test_split\n",
        "from sklearn.tree import DecisionTreeClassifier\n",
        "from sklearn.ensemble import AdaBoostClassifier"
      ]
    },
    {
      "cell_type": "code",
      "execution_count": null,
      "metadata": {
        "id": "-Dg1JnKZtoXa"
      },
      "outputs": [],
      "source": [
        "# Download dataset from url, save it to sonar.csv\n",
        "!wget -O sonar.csv https://archive.ics.uci.edu/ml/machine-learning-databases/undocumented/connectionist-bench/sonar/sonar.all-data"
      ]
    },
    {
      "cell_type": "code",
      "execution_count": null,
      "metadata": {
        "id": "BStGbJPXuXEL"
      },
      "outputs": [],
      "source": [
        "# Load data into a pandas dataframe and take a quick look\n",
        "data = pd.read_csv(\"sonar.csv\", header=None)\n",
        "print(\"Shape:\", data.shape)\n",
        "data.head(5)"
      ]
    },
    {
      "cell_type": "code",
      "execution_count": null,
      "metadata": {
        "id": "R9DT1gdXvUTY"
      },
      "outputs": [],
      "source": [
        "feature_selection = range(0, 60) # All features\n",
        "#feature_selection = [1, 2, 3, 4, 5] # Only a few features\n",
        "\n",
        "# Split data into features and labels, convert labels R->0 and M->1\n",
        "data.iloc[:, 60] = 1 * (data.iloc[:, 60] == 'M') # Replace labels M and R with 1 and 0\n",
        "X, y = data.iloc[:, feature_selection].values, data.iloc[:, 60].values.astype(int)\n",
        "\n",
        "# Split into train and test\n",
        "X_train, X_test, y_train, y_test = train_test_split(X, y, test_size=0.2, random_state=42)"
      ]
    },
    {
      "cell_type": "markdown",
      "metadata": {
        "id": "ciMDyKfD62GI"
      },
      "source": [
        "**Write your own boosting loop**\n",
        "\n",
        "You should now attempt to write your own boosting classifier using `DecisionTreeClassifier` as the base classifier in an ensamble. In this example, the weighted voting of the final ensamble will be based on the *accuracy* of each single classifier. You can use the information below to fill in the missing parts of the code.\n",
        "\n",
        "The steps of the algorithm are:\n",
        "\n",
        "1. **Choose a weak classifier as base**   \n",
        "2. Initialize weights for each sample\n",
        "3. **For T rounds**\n",
        "    1. Normalize the weights\n",
        "    2. For available features from the set, train a classifier using a single feature and evaluate the weighted training error\n",
        "    3. Choose the classifier with the lowest error\n",
        "    4. **Update the weights of the training samples: increase if classified wrongly by this classifier, decrease if classified correctly**\n",
        "4. Form the final strong classifier as the linear combination of the T classifiers with coefficient correlating to how good they are as individual classifiers\n",
        "\n",
        "We will use decision-trees with `max_depth=1` as the week classifiers. These can be constructed with the `DecisionTreeClassifier` from sklearn. If `DecisionTreeClassifier` uses `max_features=None`, all features are considered for use in the split. With this setup we get steps 3.2 and 3.3 for free. Training using weights can be done using the keyword `sample_weight` when calling `fit` in sklearn.\n",
        "\n",
        "Your task is to try out different settings for our base classifier and try different number of iterations when learning. You should also implement some update for the weight vector where if we predict correct on sample $i$ then $w_i$ should decrease while if we predict wrong $w_i$ should increase."
      ]
    },
    {
      "cell_type": "code",
      "execution_count": null,
      "metadata": {
        "id": "qIYSAtCfRc0b"
      },
      "outputs": [],
      "source": [
        "classifiers = []\n",
        "coeff = []\n",
        "\n",
        "# Initially all samples are weighted the same\n",
        "w = np.ones(len(y_train))\n",
        "\n",
        "n_iterations = 100\n",
        "\n",
        "for i in range(1, n_iterations+1):\n",
        "    clf = DecisionTreeClassifier(\n",
        "        # Try different parameters to the classifier\n",
        "    )\n",
        "\n",
        "    w = w / np.sum(w) # Normalize weights\n",
        "    clf.fit(X_train, y_train, sample_weight=w)\n",
        "\n",
        "    w =  # Use suitable update based on correct/incorrect classifications on training data\n",
        "\n",
        "    classifiers.append(clf)\n",
        "    coeff.append(clf.score(X_train, y_train)) # We use accuracy as ensamble coefficient\n",
        "\n",
        "    # Find the ensamble prediction and evaluate the accuracy after adding each new classifier\n",
        "    y_hat = sum(coeff[i] * classifiers[i].predict(X_test) for i in range(len(coeff))) / sum(coeff)\n",
        "    score = np.mean(np.round(y_hat) == y_test)\n",
        "    print(\"{}-classifier ensamble: test accuracy {}\".format(i, score))"
      ]
    },
    {
      "cell_type": "markdown",
      "metadata": {
        "id": "JNJtPFyl7ak-"
      },
      "source": [
        "**Compare to `AdaBoostClassifier`**\n",
        "\n",
        "We evaluate an `AdaBoostClassifier` in a similar fashion and print the error for each number of classifiers as in the previous cell. Do you get similar performance for both of them?"
      ]
    },
    {
      "cell_type": "code",
      "execution_count": null,
      "metadata": {
        "id": "5ee7EFJUsRZw"
      },
      "outputs": [],
      "source": [
        "for i in range(1, n_iterations+1):\n",
        "    clf = AdaBoostClassifier(n_estimators=i,learning_rate=1)\n",
        "    clf.fit(X_train, y_train)\n",
        "    score = clf.score(X_test, y_test)\n",
        "    print(\"{} classifiers: test accuracy {}\".format(i, score))"
      ]
    }
  ],
  "metadata": {
    "colab": {
      "provenance": []
    },
    "kernelspec": {
      "display_name": "Python 3",
      "language": "python",
      "name": "python3"
    },
    "language_info": {
      "codemirror_mode": {
        "name": "ipython",
        "version": 3
      },
      "file_extension": ".py",
      "mimetype": "text/x-python",
      "name": "python",
      "nbconvert_exporter": "python",
      "pygments_lexer": "ipython3",
      "version": "3.9.6"
    }
  },
  "nbformat": 4,
  "nbformat_minor": 0
}
