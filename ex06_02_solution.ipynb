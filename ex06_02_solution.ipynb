{
  "cells": [
    {
      "cell_type": "markdown",
      "metadata": {
        "id": "iEGwNNUhTRN_"
      },
      "source": [
        "This exercise is about how one can check conditional independence from the structure of the graph. (Note: The goal her is not to discuss how to estimate the correct causal inference from x3 to y.)"
      ]
    },
    {
      "cell_type": "code",
      "execution_count": 1,
      "metadata": {
        "colab": {
          "base_uri": "https://localhost:8080/"
        },
        "id": "Ecz7LEUyR02n",
        "outputId": "d6fe7e69-d125-4878-c036-20f90dda41c1"
      },
      "outputs": [
        {
          "name": "stderr",
          "output_type": "stream",
          "text": [
            "/home/mgn/miniconda3/envs/dsml-py3.9/lib/python3.9/site-packages/pandas/core/computation/expressions.py:21: UserWarning: Pandas requires version '2.8.4' or newer of 'numexpr' (version '2.7.3' currently installed).\n",
            "  from pandas.core.computation.check import NUMEXPR_INSTALLED\n",
            "/home/mgn/miniconda3/envs/dsml-py3.9/lib/python3.9/site-packages/pandas/core/arrays/masked.py:60: UserWarning: Pandas requires version '1.3.6' or newer of 'bottleneck' (version '1.3.2' currently installed).\n",
            "  from pandas.core import (\n"
          ]
        }
      ],
      "source": [
        "import numpy as np\n",
        "import statsmodels.formula.api as smf\n",
        "import pandas as pd"
      ]
    },
    {
      "cell_type": "code",
      "execution_count": 2,
      "metadata": {},
      "outputs": [],
      "source": [
        "# Generate data according to the linear SCM model in the exercise\n",
        "\n",
        "N = 100000\n",
        "\n",
        "n1 = np.random.normal(0, 1, N)\n",
        "n2 = np.random.normal(0, 1, N)\n",
        "n3 = np.random.normal(0, 1, N)\n",
        "n4 = np.random.normal(0, 1, N)\n",
        "n5 = np.random.normal(0, 1, N)\n",
        "n6 = np.random.normal(0, 1, N)\n",
        "ny = np.random.normal(0, 1, N)\n",
        "\n",
        "x1 = n1\n",
        "x2 = n2\n",
        "x3 = n3\n",
        "x4 = 2*x1 + 3*x2 + n4\n",
        "x5 = 1*x2 + 2*x3 + n5\n",
        "x6 = 1*x4 + n6\n",
        "y = 3*x1 + 2*x5 + ny\n",
        "\n",
        "dat1 = pd.DataFrame({'x1':x1, 'x2':x2, 'x3':x3, 'x4':x4,\n",
        "                     'x5':x5, 'x6':x6, 'y':y})"
      ]
    },
    {
      "cell_type": "code",
      "execution_count": 3,
      "metadata": {
        "colab": {
          "base_uri": "https://localhost:8080/"
        },
        "id": "mb2QR7hxR4pn",
        "outputId": "e8d5b035-98ae-4176-8558-e1abc93a6644"
      },
      "outputs": [
        {
          "name": "stdout",
          "output_type": "stream",
          "text": [
            "                                 OLS Regression Results                                \n",
            "=======================================================================================\n",
            "Dep. Variable:                      y   R-squared (uncentered):                   0.700\n",
            "Model:                            OLS   Adj. R-squared (uncentered):              0.700\n",
            "Method:                 Least Squares   F-statistic:                          1.167e+05\n",
            "Date:                Wed, 02 Oct 2024   Prob (F-statistic):                        0.00\n",
            "Time:                        14:28:18   Log-Likelihood:                     -2.5759e+05\n",
            "No. Observations:              100000   AIC:                                  5.152e+05\n",
            "Df Residuals:                   99998   BIC:                                  5.152e+05\n",
            "Df Model:                           2                                                  \n",
            "Covariance Type:            nonrobust                                                  \n",
            "==============================================================================\n",
            "                 coef    std err          t      P>|t|      [0.025      0.975]\n",
            "------------------------------------------------------------------------------\n",
            "x3            -0.0066      0.017     -0.377      0.707      -0.041       0.028\n",
            "x5             1.9910      0.007    279.555      0.000       1.977       2.005\n",
            "==============================================================================\n",
            "Omnibus:                        4.069   Durbin-Watson:                   2.006\n",
            "Prob(Omnibus):                  0.131   Jarque-Bera (JB):                4.060\n",
            "Skew:                          -0.015   Prob(JB):                        0.131\n",
            "Kurtosis:                       3.006   Cond. No.                         4.73\n",
            "==============================================================================\n",
            "\n",
            "Notes:\n",
            "[1] R² is computed without centering (uncentered) since the model does not contain a constant.\n",
            "[2] Standard Errors assume that the covariance matrix of the errors is correctly specified.\n"
          ]
        }
      ],
      "source": [
        "# Is y independent from x3 given x5?\n",
        "\n",
        "# We check if the x3 coefficient is 0 in the linear regression?\n",
        "# Answer: Yes (with very high probability)\n",
        "results1 = smf.ols('y ~ x3 + x5 - 1', data=dat1).fit()\n",
        "print(results1.summary())"
      ]
    },
    {
      "cell_type": "code",
      "execution_count": 4,
      "metadata": {
        "colab": {
          "base_uri": "https://localhost:8080/"
        },
        "id": "QMZLyWtIR8KU",
        "outputId": "58f9851b-6109-4d8d-9aa3-f458b541d2de"
      },
      "outputs": [
        {
          "name": "stdout",
          "output_type": "stream",
          "text": [
            "                                 OLS Regression Results                                \n",
            "=======================================================================================\n",
            "Dep. Variable:                      y   R-squared (uncentered):                   0.815\n",
            "Model:                            OLS   Adj. R-squared (uncentered):              0.815\n",
            "Method:                 Least Squares   F-statistic:                          1.471e+05\n",
            "Date:                Wed, 02 Oct 2024   Prob (F-statistic):                        0.00\n",
            "Time:                        14:28:21   Log-Likelihood:                     -2.3336e+05\n",
            "No. Observations:              100000   AIC:                                  4.667e+05\n",
            "Df Residuals:                   99997   BIC:                                  4.668e+05\n",
            "Df Model:                           3                                                  \n",
            "Covariance Type:            nonrobust                                                  \n",
            "==============================================================================\n",
            "                 coef    std err          t      P>|t|      [0.025      0.975]\n",
            "------------------------------------------------------------------------------\n",
            "x3             1.9049      0.016    121.467      0.000       1.874       1.936\n",
            "x4             0.6371      0.003    249.694      0.000       0.632       0.642\n",
            "x5             1.0360      0.007    152.973      0.000       1.023       1.049\n",
            "==============================================================================\n",
            "Omnibus:                        6.175   Durbin-Watson:                   2.010\n",
            "Prob(Omnibus):                  0.046   Jarque-Bera (JB):                6.176\n",
            "Skew:                          -0.019   Prob(JB):                       0.0456\n",
            "Kurtosis:                       2.999   Cond. No.                         8.28\n",
            "==============================================================================\n",
            "\n",
            "Notes:\n",
            "[1] R² is computed without centering (uncentered) since the model does not contain a constant.\n",
            "[2] Standard Errors assume that the covariance matrix of the errors is correctly specified.\n"
          ]
        }
      ],
      "source": [
        "# Is y independent from x3 given (x4 and x5)?\n",
        "\n",
        "# No, as we have opened the path x3-> x5 -> x2 -> x4 -> x1 -> y\n",
        "# Also, we see that the estimation of the x3 coefficient is non-zero.\n",
        "results2 = smf.ols('y ~ x3 + x4 + x5 - 1', data=dat1).fit()\n",
        "print(results2.summary())"
      ]
    },
    {
      "cell_type": "code",
      "execution_count": 9,
      "metadata": {
        "colab": {
          "base_uri": "https://localhost:8080/"
        },
        "id": "LXeCTwObSmwz",
        "outputId": "494dfe20-ff2d-4dc2-e3ea-0b9354020a92"
      },
      "outputs": [
        {
          "name": "stdout",
          "output_type": "stream",
          "text": [
            "                                 OLS Regression Results                                \n",
            "=======================================================================================\n",
            "Dep. Variable:                      y   R-squared (uncentered):                   0.804\n",
            "Model:                            OLS   Adj. R-squared (uncentered):              0.804\n",
            "Method:                 Least Squares   F-statistic:                          1.371e+05\n",
            "Date:                Wed, 02 Oct 2024   Prob (F-statistic):                        0.00\n",
            "Time:                        14:40:32   Log-Likelihood:                     -2.3622e+05\n",
            "No. Observations:              100000   AIC:                                  4.724e+05\n",
            "Df Residuals:                   99997   BIC:                                  4.725e+05\n",
            "Df Model:                           3                                                  \n",
            "Covariance Type:            nonrobust                                                  \n",
            "==============================================================================\n",
            "                 coef    std err          t      P>|t|      [0.025      0.975]\n",
            "------------------------------------------------------------------------------\n",
            "x3             1.7314      0.016    108.423      0.000       1.700       1.763\n",
            "x5             1.1219      0.007    163.225      0.000       1.108       1.135\n",
            "x6             0.5778      0.003    230.920      0.000       0.573       0.583\n",
            "==============================================================================\n",
            "Omnibus:                        7.470   Durbin-Watson:                   2.011\n",
            "Prob(Omnibus):                  0.024   Jarque-Bera (JB):                7.477\n",
            "Skew:                          -0.021   Prob(JB):                       0.0238\n",
            "Kurtosis:                       2.996   Cond. No.                         8.42\n",
            "==============================================================================\n",
            "\n",
            "Notes:\n",
            "[1] R² is computed without centering (uncentered) since the model does not contain a constant.\n",
            "[2] Standard Errors assume that the covariance matrix of the errors is correctly specified.\n"
          ]
        }
      ],
      "source": [
        "# Is y independent from x3 given (x5 and x6)?\n",
        "\n",
        "# We have the same path opening as when conditioning (x4 and x5) since x6 is a descendant of x4.\n",
        "# Also, we see that the estimation of the x3 coefficient is non-zero.\n",
        "# Answer: No, y and x3 are not conditionally independet given (x5 and x6)\n",
        "results3 = smf.ols('y ~ x3 + x5 + x6 - 1', data=dat1).fit()\n",
        "print(results3.summary())"
      ]
    },
    {
      "cell_type": "code",
      "execution_count": 8,
      "metadata": {
        "colab": {
          "base_uri": "https://localhost:8080/"
        },
        "id": "czuIYM2dT9I0",
        "outputId": "66ec82b5-aca8-4d81-8de0-b2d2f83936fc"
      },
      "outputs": [
        {
          "name": "stdout",
          "output_type": "stream",
          "text": [
            "                                 OLS Regression Results                                \n",
            "=======================================================================================\n",
            "Dep. Variable:                      y   R-squared (uncentered):                   0.881\n",
            "Model:                            OLS   Adj. R-squared (uncentered):              0.881\n",
            "Method:                 Least Squares   F-statistic:                          1.854e+05\n",
            "Date:                Wed, 02 Oct 2024   Prob (F-statistic):                        0.00\n",
            "Time:                        14:39:28   Log-Likelihood:                     -2.1130e+05\n",
            "No. Observations:              100000   AIC:                                  4.226e+05\n",
            "Df Residuals:                   99996   BIC:                                  4.226e+05\n",
            "Df Model:                           4                                                  \n",
            "Covariance Type:            nonrobust                                                  \n",
            "==============================================================================\n",
            "                 coef    std err          t      P>|t|      [0.025      0.975]\n",
            "------------------------------------------------------------------------------\n",
            "x2            -3.0072      0.012   -254.171      0.000      -3.030      -2.984\n",
            "x3             0.0132      0.014      0.929      0.353      -0.015       0.041\n",
            "x5             1.9847      0.006    312.929      0.000       1.972       1.997\n",
            "x6             1.0059      0.003    390.352      0.000       1.001       1.011\n",
            "==============================================================================\n",
            "Omnibus:                        0.348   Durbin-Watson:                   2.003\n",
            "Prob(Omnibus):                  0.840   Jarque-Bera (JB):                0.338\n",
            "Skew:                           0.001   Prob(JB):                        0.845\n",
            "Kurtosis:                       3.009   Cond. No.                         10.9\n",
            "==============================================================================\n",
            "\n",
            "Notes:\n",
            "[1] R² is computed without centering (uncentered) since the model does not contain a constant.\n",
            "[2] Standard Errors assume that the covariance matrix of the errors is correctly specified.\n"
          ]
        }
      ],
      "source": [
        "# Is y independent from x3 given (x2, x5 and x6)?\n",
        "\n",
        "# Now, when we also condition on x2, the previously open path is broken, and we\n",
        "# also do not open any new paths, so we have broken all paths from x3 to y.\n",
        "# We also see that the x3 coefficient becomes zero.\n",
        "results4 = smf.ols('y ~ x2 + x3 + x5 + x6 - 1', data=dat1).fit()\n",
        "print(results4.summary())"
      ]
    },
    {
      "cell_type": "code",
      "execution_count": 7,
      "metadata": {
        "colab": {
          "base_uri": "https://localhost:8080/"
        },
        "id": "z1AMuhG7VVXE",
        "outputId": "8b97af41-1bd5-4dad-e18d-3e3bfa8452cc"
      },
      "outputs": [
        {
          "name": "stdout",
          "output_type": "stream",
          "text": [
            "                                 OLS Regression Results                                \n",
            "=======================================================================================\n",
            "Dep. Variable:                      y   R-squared (uncentered):                   0.466\n",
            "Model:                            OLS   Adj. R-squared (uncentered):              0.466\n",
            "Method:                 Least Squares   F-statistic:                          8.717e+04\n",
            "Date:                Wed, 02 Oct 2024   Prob (F-statistic):                        0.00\n",
            "Time:                        14:38:29   Log-Likelihood:                     -2.8646e+05\n",
            "No. Observations:              100000   AIC:                                  5.729e+05\n",
            "Df Residuals:                   99999   BIC:                                  5.729e+05\n",
            "Df Model:                           1                                                  \n",
            "Covariance Type:            nonrobust                                                  \n",
            "==============================================================================\n",
            "                 coef    std err          t      P>|t|      [0.025      0.975]\n",
            "------------------------------------------------------------------------------\n",
            "x3             3.9721      0.013    295.240      0.000       3.946       3.998\n",
            "==============================================================================\n",
            "Omnibus:                        5.996   Durbin-Watson:                   1.998\n",
            "Prob(Omnibus):                  0.050   Jarque-Bera (JB):                5.997\n",
            "Skew:                          -0.019   Prob(JB):                       0.0499\n",
            "Kurtosis:                       3.000   Cond. No.                         1.00\n",
            "==============================================================================\n",
            "\n",
            "Notes:\n",
            "[1] R² is computed without centering (uncentered) since the model does not contain a constant.\n",
            "[2] Standard Errors assume that the covariance matrix of the errors is correctly specified.\n"
          ]
        }
      ],
      "source": [
        "# And by the way, if you would like to estimate the causal impact of x3 on y,\n",
        "# this would be trivial: Since x3 has no parents we can use an empty adjustment set Z,\n",
        "# and a simple linear regression betwen y and x3 would work.\n",
        "# The correct coefficient, which is 4, is then found by:\n",
        "results5 = smf.ols('y ~ x3 - 1', data=dat1).fit()\n",
        "print(results5.summary())"
      ]
    }
  ],
  "metadata": {
    "colab": {
      "provenance": []
    },
    "kernelspec": {
      "display_name": "Python 3",
      "name": "python3"
    },
    "language_info": {
      "codemirror_mode": {
        "name": "ipython",
        "version": 3
      },
      "file_extension": ".py",
      "mimetype": "text/x-python",
      "name": "python",
      "nbconvert_exporter": "python",
      "pygments_lexer": "ipython3",
      "version": "3.9.6"
    }
  },
  "nbformat": 4,
  "nbformat_minor": 0
}
