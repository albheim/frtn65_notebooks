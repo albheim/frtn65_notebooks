{
  "nbformat": 4,
  "nbformat_minor": 0,
  "metadata": {
    "colab": {
      "name": "lab2_song_classification.ipynb",
      "provenance": [],
      "authorship_tag": "ABX9TyMYx1ljeDDXiTjaT6q8yMzm",
      "include_colab_link": true
    },
    "kernelspec": {
      "name": "python3",
      "display_name": "Python 3"
    }
  },
  "cells": [
    {
      "cell_type": "markdown",
      "metadata": {
        "id": "view-in-github",
        "colab_type": "text"
      },
      "source": [
        "<a href=\"https://colab.research.google.com/github/albheim/frtn65_notebooks/blob/master/lab2_song_classification.ipynb\" target=\"_parent\"><img src=\"https://colab.research.google.com/assets/colab-badge.svg\" alt=\"Open In Colab\"/></a>"
      ]
    },
    {
      "cell_type": "code",
      "metadata": {
        "id": "_x6_Po8c5Yoi",
        "colab_type": "code",
        "colab": {}
      },
      "source": [
        "# Import modules\n",
        "import numpy as np\n",
        "import pandas as pd\n",
        "import matplotlib.pyplot as plt\n",
        "from sklearn.model_selection import train_test_split\n",
        "from sklearn.neighbors import KNeighborsClassifier"
      ],
      "execution_count": null,
      "outputs": []
    },
    {
      "cell_type": "code",
      "metadata": {
        "id": "JGaaR6fA4DM4",
        "colab_type": "code",
        "colab": {}
      },
      "source": [
        "# TODO link to our course page\n",
        "!wget -O training_data.csv http://www.it.uu.se/edu/course/homepage/sml/project/training_data.csv\n",
        "!wget -O songs_to_classify.csv http://www.it.uu.se/edu/course/homepage/sml/project/songs_to_classify.csv"
      ],
      "execution_count": null,
      "outputs": []
    },
    {
      "cell_type": "code",
      "metadata": {
        "id": "7rQGWXu85GKD",
        "colab_type": "code",
        "colab": {}
      },
      "source": [
        "# Load data\n",
        "train = pd.read_csv(\"training_data.csv\")\n",
        "test = pd.read_csv(\"songs_to_classify.csv\")\n",
        "train.shape, test.shape"
      ],
      "execution_count": null,
      "outputs": []
    },
    {
      "cell_type": "code",
      "metadata": {
        "id": "AjIXHj-QbCmK",
        "colab_type": "code",
        "colab": {}
      },
      "source": [
        "# Inspect data\n",
        "train.sample(5)"
      ],
      "execution_count": null,
      "outputs": []
    },
    {
      "cell_type": "code",
      "metadata": {
        "id": "slYOHCve8NSi",
        "colab_type": "code",
        "colab": {}
      },
      "source": [
        "# select which features to use\n",
        "features = ['danceability','key','loudness','instrumentalness','liveness']\n",
        "X_train = train.loc[:,features].values\n",
        "y_train = train.loc[:,'label'].values\n",
        "X_test = test.loc[:,features].values"
      ],
      "execution_count": null,
      "outputs": []
    },
    {
      "cell_type": "code",
      "metadata": {
        "id": "-YwzF_SM-FHp",
        "colab_type": "code",
        "colab": {}
      },
      "source": [
        "# Normalize data. Can also be done using sklearn methods such as\n",
        "# MinMaxScaler() or StandardScaler()\n",
        "X_trainn = X_train*1/np.max(np.abs(X_train), axis=0)\n",
        "X_testn = X_test*1/np.max(np.abs(X_train), axis=0)"
      ],
      "execution_count": null,
      "outputs": []
    },
    {
      "cell_type": "code",
      "metadata": {
        "id": "MOQCqMjeaei6",
        "colab_type": "code",
        "colab": {}
      },
      "source": [
        "# note: all inputs/features are treated as quantitative/numeric\n",
        "# some of the features are perhaps more sensible to treat as\n",
        "# qualitative/cathegorical. For that sklearn preprocessing methods\n",
        "# such as OneHotEncoder() can be used\n",
        "\n",
        "# define the k-NN model. To set n_neighbors in a systematic way, use cross validation!\n",
        "knnmodel = KNeighborsClassifier(n_neighbors=5)\n",
        "\n",
        "# feed it with data and train it\n",
        "knnmodel.fit(X_trainn, y_train)\n",
        "\n",
        "# make predictions\n",
        "predictions = knnmodel.predict(X=X_testn)\n",
        "print(predictions)"
      ],
      "execution_count": null,
      "outputs": []
    },
    {
      "cell_type": "code",
      "metadata": {
        "id": "3lLKVjTFaqeN",
        "colab_type": "code",
        "colab": {}
      },
      "source": [
        ""
      ],
      "execution_count": null,
      "outputs": []
    }
  ]
}