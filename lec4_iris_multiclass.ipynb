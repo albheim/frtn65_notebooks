{
  "nbformat": 4,
  "nbformat_minor": 0,
  "metadata": {
    "colab": {
      "name": "lec4_iris_multiclass.ipynb",
      "provenance": [],
      "collapsed_sections": [],
      "toc_visible": true,
      "include_colab_link": true
    },
    "kernelspec": {
      "name": "python3",
      "display_name": "Python 3"
    }
  },
  "cells": [
    {
      "cell_type": "markdown",
      "metadata": {
        "id": "view-in-github",
        "colab_type": "text"
      },
      "source": [
        "<a href=\"https://colab.research.google.com/github/albheim/frtn65_notebooks/blob/master/lec4_iris_multiclass.ipynb\" target=\"_parent\"><img src=\"https://colab.research.google.com/assets/colab-badge.svg\" alt=\"Open In Colab\"/></a>"
      ]
    },
    {
      "cell_type": "markdown",
      "metadata": {
        "id": "ByyTwVrOjG1t",
        "colab_type": "text"
      },
      "source": [
        "## Logistic Regression multiclass case\n",
        "We will look on the classic IRIS data set, and construct a classifier for all 3 iris classes based on sepal length (feature 0)\n"
      ]
    },
    {
      "cell_type": "code",
      "metadata": {
        "id": "u5GvGQKhmwty",
        "colab_type": "code",
        "colab": {}
      },
      "source": [
        "import numpy as np\n",
        "import pandas as pd\n",
        "from pandas.plotting import scatter_matrix\n",
        "from sklearn.datasets import load_iris\n",
        "import matplotlib.pyplot as plt\n",
        "iris = load_iris()\n",
        "print(\"size of data {}\\nnames of columns {}\\ntarget label size {}\\nlabel names {}\".format(iris.data.shape, iris.feature_names, iris.target.shape, iris.target_names))"
      ],
      "execution_count": null,
      "outputs": []
    },
    {
      "cell_type": "markdown",
      "metadata": {
        "id": "822qzx_KxE8R",
        "colab_type": "text"
      },
      "source": [
        "## Pandas\n",
        "Now we want to use pandas dataframes to explore the data a bit. Lets create a dataframe for the data and the labels and then join them together so we have everything in one spot."
      ]
    },
    {
      "cell_type": "code",
      "metadata": {
        "id": "BAtDMRtcwJux",
        "colab_type": "code",
        "colab": {}
      },
      "source": [
        "df=pd.DataFrame(iris.data)\n",
        "colMap={0:\"red\",1:\"green\",2:\"blue\"}\n",
        "cols=list(map(lambda x:colMap.get(x),iris.target))\n",
        "scatter_matrix(df,  diagonal='hist',c=cols,figsize = (12,8))\n",
        "fig1 = plt.gcf()\n",
        "from google.colab import files\n",
        "plt.savefig(\"plotiris.pdf\")\n",
        "files.download(\"plotiris.pdf\")\n"
      ],
      "execution_count": null,
      "outputs": []
    },
    {
      "cell_type": "code",
      "metadata": {
        "id": "9xVi6ijsFcri",
        "colab_type": "code",
        "colab": {}
      },
      "source": [
        "from sklearn.linear_model import LogisticRegression\n",
        "X = iris[\"data\"][:,0:1].reshape(-1,1) # sepal length\n",
        "y = iris[\"target\"].reshape(-1,1)   # y = 0,1, or 2 \n",
        "softmaxmodel = LogisticRegression(multi_class=\"multinomial\")\n",
        "softmaxmodel.fit(X,y)"
      ],
      "execution_count": null,
      "outputs": []
    },
    {
      "cell_type": "code",
      "metadata": {
        "id": "ovMDDY6oNEHo",
        "colab_type": "code",
        "colab": {}
      },
      "source": [
        "# Plot Setosa probability versus Sepal Length\n",
        "Xnew = np.linspace(4,8,1000).reshape(-1,1)\n",
        "yproba = softmaxmodel.predict_proba(Xnew)\n",
        "\n",
        "plt.figure(figsize=(8, 4))\n",
        "plt.plot(X[y==2], 0.5*y[y==2], \"bs\")\n",
        "plt.plot(X[y==1], 0.5*y[y==1], \"go\")\n",
        "plt.plot(X[y==0], y[y==0], \"r^\")\n",
        "plt.plot(Xnew,yproba[:,0],\"r-\",linewidth=2,label = \"Setosa\")\n",
        "plt.plot(Xnew,yproba[:,1],\"g-\",linewidth=2,label = \"Versicolor\")\n",
        "plt.plot(Xnew,yproba[:,2],\"b-\",linewidth=2,label = \"Virginica\")\n",
        "plt.xlabel(\"Sepal length (cm)\", fontsize=14)\n",
        "plt.ylabel(\"Probability\", fontsize=14)\n",
        "plt.legend(loc=\"best\", fontsize=14)\n",
        "plt.axis([4, 8, -0.02, 1.02])\n",
        "\n",
        "plt.savefig(\"plotiris3.pdf\")\n",
        "files.download(\"plotiris3.pdf\")"
      ],
      "execution_count": null,
      "outputs": []
    },
    {
      "cell_type": "code",
      "metadata": {
        "id": "dn-XcxsT0Doj",
        "colab_type": "code",
        "colab": {}
      },
      "source": [
        "X2 = iris[\"data\"][:, (0,2)]  # petal length, petal width\n",
        "y = iris[\"target\"]\n",
        "\n",
        "softmaxmodel2 = LogisticRegression(multi_class=\"multinomial\",C=5)\n",
        "softmaxmodel2.fit(X2, y)"
      ],
      "execution_count": null,
      "outputs": []
    },
    {
      "cell_type": "code",
      "metadata": {
        "id": "GflnCGht3R4E",
        "colab_type": "code",
        "colab": {}
      },
      "source": [
        "x0, x1 = np.meshgrid(\n",
        "        np.linspace(4, 8, 500).reshape(-1, 1),\n",
        "        np.linspace(1, 7, 200).reshape(-1, 1),\n",
        "    )\n",
        "X_new = np.c_[x0.ravel(), x1.ravel()]\n",
        "\n",
        "y_proba = softmaxmodel2.predict_proba(X_new)\n",
        "y_predict = softmaxmodel2.predict(X_new)\n",
        "\n",
        "zz1 = y_proba[:, 1].reshape(x0.shape)\n",
        "zz = y_predict.reshape(x0.shape)\n",
        "\n",
        "plt.figure(figsize=(8, 8))\n",
        "plt.plot(X2[y==2, 0], X2[y==2, 1], \"bs\", label=\"Iris virginica\")\n",
        "plt.plot(X2[y==1, 0], X2[y==1, 1], \"go\", label=\"Iris versicolor\")\n",
        "plt.plot(X2[y==0, 0], X2[y==0, 1], \"r^\", label=\"Iris setosa\")\n",
        "\n",
        "from matplotlib.colors import ListedColormap\n",
        "custom_cmap = ListedColormap(['#ffaaaa','#aaffaa','#aaaaff'])\n",
        "\n",
        "plt.contourf(x0, x1, zz, cmap=custom_cmap)\n",
        "contour = plt.contour(x0, x1, zz1, cmap=plt.cm.brg)\n",
        "plt.clabel(contour, inline=1, fontsize=12)\n",
        "plt.xlabel(\"Sepal length\", fontsize=14)\n",
        "plt.ylabel(\"Petal length\", fontsize=14)\n",
        "plt.legend(loc=\"upper left\", fontsize=14)\n",
        "plt.axis([4, 8, 1, 7])\n",
        "#plt.savefig(\"plotiris4.pdf\")\n",
        "#files.download(\"plotiris4.pdf\")"
      ],
      "execution_count": null,
      "outputs": []
    },
    {
      "cell_type": "code",
      "metadata": {
        "id": "eH60-P593S_3",
        "colab_type": "code",
        "colab": {}
      },
      "source": [
        ""
      ],
      "execution_count": null,
      "outputs": []
    }
  ]
}